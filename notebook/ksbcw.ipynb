{
 "cells": [
  {
   "cell_type": "code",
   "execution_count": 26,
   "metadata": {},
   "outputs": [],
   "source": [
    "import os\n",
    "import hashlib\n",
    "\n",
    "import numpy as np\n",
    "import matplotlib.pyplot as plt\n",
    "import pandas as pd\n",
    "import xarray as xr\n",
    "import requests\n",
    "import pooch\n",
    "\n",
    "%matplotlib inline"
   ]
  },
  {
   "cell_type": "code",
   "execution_count": 27,
   "metadata": {},
   "outputs": [],
   "source": [
    "key = \"qPwOeIrU-2501-PXXKVD-1011\"\n",
    "sdate = 19680101\n",
    "edate = 20241231\n",
    "json_url = f\"https://www.nifs.go.kr/OpenAPI_json?id=sooList&key={key}&sdate={sdate}&edate={edate}\""
   ]
  },
  {
   "cell_type": "code",
   "execution_count": 28,
   "metadata": {},
   "outputs": [
    {
     "name": "stdout",
     "output_type": "stream",
     "text": [
      "SHA256 hash of the file: 7498c105dddee7ff3b3f5b2b76ecc9450f1b4d59195805ae1f4aa58d20eee089\n"
     ]
    }
   ],
   "source": [
    "fname = pooch.retrieve(url=json_url, fname=\"soo.json\", known_hash=None)\n",
    "\n",
    "# Read the file content\n",
    "with open(fname, \"rb\") as f:\n",
    "    file_content = f.read()\n",
    "\n",
    "# Compute the hash using hashlib (e.g., SHA256)\n",
    "hash_object = hashlib.sha256()\n",
    "hash_object.update(file_content)\n",
    "hex_dig = hash_object.hexdigest()\n",
    "\n",
    "print(f\"SHA256 hash of the file: {hex_dig}\")"
   ]
  },
  {
   "cell_type": "code",
   "execution_count": 29,
   "metadata": {},
   "outputs": [],
   "source": [
    "fname = pooch.retrieve(url=json_url, fname=\"soo.json\", known_hash=hex_dig)\n",
    "data = pd.read_json(fname, encoding=\"euc-kr\")"
   ]
  },
  {
   "cell_type": "code",
   "execution_count": 30,
   "metadata": {},
   "outputs": [],
   "source": [
    "data = data[\"body\"][\"item\"]"
   ]
  },
  {
   "cell_type": "code",
   "execution_count": 31,
   "metadata": {},
   "outputs": [
    {
     "name": "stdout",
     "output_type": "stream",
     "text": [
      "DataFrame exported as HDF5 file at: soo.h5\n"
     ]
    },
    {
     "name": "stderr",
     "output_type": "stream",
     "text": [
      "/tmp/ipykernel_105566/1134757992.py:4: PerformanceWarning: \n",
      "your performance may suffer as PyTables will pickle object types that it cannot\n",
      "map directly to c-types [inferred_type->mixed,key->block0_values] [items->Index(['nut_no3_n', 'sln_cde', 'lon', 'wtr_trn', 'wtr_tmp', 'nut_no2_n',\n",
      "       'gru_nam', 'res_vsl_nm', 'nut_sio2_si', 'wtr_dep', 'dox', 'sta_cde',\n",
      "       'qc_wtr', 'qc_sal', 'obs_dtm', 'sal', 'atm', 'nut_ph', 'qc_dox',\n",
      "       'nut_po4_p', 'lat'],\n",
      "      dtype='object')]\n",
      "\n",
      "  df.to_hdf(h5_path, key='data', mode='w')\n"
     ]
    }
   ],
   "source": [
    "df = pd.DataFrame(data)\n",
    "# Export DataFrame as HDF5 file\n",
    "h5_path = 'soo.h5'\n",
    "df.to_hdf(h5_path, key='data', mode='w')\n",
    "\n",
    "print(f\"DataFrame exported as HDF5 file at: {h5_path}\")"
   ]
  },
  {
   "cell_type": "code",
   "execution_count": null,
   "metadata": {},
   "outputs": [],
   "source": []
  }
 ],
 "metadata": {
  "kernelspec": {
   "display_name": ".venv",
   "language": "python",
   "name": "python3"
  },
  "language_info": {
   "codemirror_mode": {
    "name": "ipython",
    "version": 3
   },
   "file_extension": ".py",
   "mimetype": "text/x-python",
   "name": "python",
   "nbconvert_exporter": "python",
   "pygments_lexer": "ipython3",
   "version": "3.12.1"
  }
 },
 "nbformat": 4,
 "nbformat_minor": 2
}
