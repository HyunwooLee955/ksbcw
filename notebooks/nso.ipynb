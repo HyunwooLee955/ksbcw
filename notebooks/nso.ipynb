{
 "cells": [
  {
   "cell_type": "markdown",
   "metadata": {},
   "source": [
    "# Data Quality Control"
   ]
  },
  {
   "cell_type": "code",
   "execution_count": 9,
   "metadata": {},
   "outputs": [],
   "source": [
    "# import modules\n",
    "from pathlib import Path\n",
    "import csv\n",
    "\n",
    "import numpy as np\n",
    "import pandas as pd\n",
    "import xarray as xr\n",
    "import matplotlib.pyplot as plt\n",
    "import gsw\n",
    "\n",
    "%matplotlib inline"
   ]
  },
  {
   "cell_type": "code",
   "execution_count": 14,
   "metadata": {},
   "outputs": [],
   "source": [
    "# load data\n",
    "\n",
    "nso1968 = pd.read_csv(\n",
    "    f\"../data/nso_1968.csv\",\n",
    "    header=0,\n",
    "    delimiter=\"\\t\",\n",
    "    usecols=[3, 4, 5, 7, 8, 9, 10, 11, 12, 13, 14],\n",
    "    dtype={\n",
    "        \"Date(YYYY-MM-DD)\": str,\n",
    "        \"Latitude\": float,\n",
    "        \"Longitude\": float,\n",
    "        \"Depth(m)\": int,\n",
    "        \"Temperature(C)\": float,\n",
    "        \"T QC Flag\": int,\n",
    "        \"Salinity(psu)\": float,\n",
    "        \"S QC Flag\": int,\n",
    "        \"Dissolved Oxygen(mg/L)\": float,\n",
    "        \"D QC Flag\": int,\n",
    "        \"QC Level\": int,\n",
    "    },\n",
    ")\n",
    "nso1968['Date(YYYY-MM-DD)'] = pd.to_datetime(nso1968['Date(YYYY-MM-DD)'])"
   ]
  },
  {
   "cell_type": "code",
   "execution_count": null,
   "metadata": {},
   "outputs": [],
   "source": []
  }
 ],
 "metadata": {
  "kernelspec": {
   "display_name": ".venv",
   "language": "python",
   "name": "python3"
  },
  "language_info": {
   "codemirror_mode": {
    "name": "ipython",
    "version": 3
   },
   "file_extension": ".py",
   "mimetype": "text/x-python",
   "name": "python",
   "nbconvert_exporter": "python",
   "pygments_lexer": "ipython3",
   "version": "3.12.3"
  }
 },
 "nbformat": 4,
 "nbformat_minor": 2
}
