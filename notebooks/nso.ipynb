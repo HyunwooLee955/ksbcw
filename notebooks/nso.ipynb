{
 "cells": [
  {
   "cell_type": "markdown",
   "metadata": {},
   "source": [
    "# Data Quality Control"
   ]
  },
  {
   "cell_type": "code",
   "execution_count": 9,
   "metadata": {},
   "outputs": [],
   "source": [
    "# import modules\n",
    "from pathlib import Path\n",
    "import csv\n",
    "\n",
    "import numpy as np\n",
    "import pandas as pd\n",
    "import xarray as xr\n",
    "import matplotlib.pyplot as plt\n",
    "import gsw\n",
    "\n",
    "%matplotlib inline"
   ]
  },
  {
   "cell_type": "code",
   "execution_count": 14,
   "metadata": {},
   "outputs": [],
   "source": [
    "workspace = Path.cwd()"
   ]
  },
  {
   "cell_type": "code",
   "execution_count": null,
   "metadata": {},
   "outputs": [],
   "source": [
    "# load data\n",
    "\n",
    "nso1968_df = pd.read_csv(\n",
    "    f\"{workspace}/data/nso_1968.csv\",\n",
    "    header=0,\n",
    "    delimiter=\"\\t\",\n",
    "    usecols=[3, 4, 5, 7, 8, 9, 10, 11, 12, 13, 14],\n",
    "    names=[\n",
    "        \"time\",\n",
    "        \"lon\",\n",
    "        \"lat\",\n",
    "        \"depth\",\n",
    "        \"temperature\",\n",
    "        \"t_qc_flag\",\n",
    "        \"salinity\",\n",
    "        \"s_qc_flag\",\n",
    "        \"dissolved_oxygen\",\n",
    "        \"d_qc_flag\",\n",
    "        \"qc_level\",\n",
    "    ],\n",
    "    dtype={\n",
    "        \"Date(YYYY-MM-DD)\": str,\n",
    "        \"Latitude\": float,\n",
    "        \"Longitude\": float,\n",
    "        \"Depth(m)\": int,\n",
    "        \"Temperature(C)\": float,\n",
    "        \"T QC Flag\": int,\n",
    "        \"Salinity(psu)\": float,\n",
    "        \"S QC Flag\": int,\n",
    "        \"Dissolved Oxygen(mg/L)\": float,\n",
    "        \"D QC Flag\": int,\n",
    "        \"QC Level\": int,\n",
    "    },\n",
    ")\n",
    "nso1968_df['time'] = pd.to_datetime(nso1968_df['time'])\n"
   ]
  },
  {
   "cell_type": "code",
   "execution_count": 40,
   "metadata": {},
   "outputs": [],
   "source": [
    "nso1968_df = nso1968_df.set_index([\"time\", \"lon\", \"lat\", \"depth\"])"
   ]
  },
  {
   "cell_type": "code",
   "execution_count": 42,
   "metadata": {},
   "outputs": [],
   "source": [
    "nso1968_df.to_hdf(f\"{workspace}/data/nso_1968.h5\", key=\"nso1968\", mode=\"w\", format=\"table\")"
   ]
  },
  {
   "cell_type": "code",
   "execution_count": 43,
   "metadata": {},
   "outputs": [],
   "source": [
    "nso1968_ds = xr.Dataset.from_dataframe(nso1968_df, sparse=True)"
   ]
  },
  {
   "cell_type": "code",
   "execution_count": 44,
   "metadata": {},
   "outputs": [
    {
     "data": {
      "text/plain": [
       "<bound method Dataset.info of <xarray.Dataset> Size: 1MB\n",
       "Dimensions:           (time: 1327, lon: 87, lat: 183, depth: 452)\n",
       "Coordinates:\n",
       "  * time              (time) datetime64[ns] 11kB 1968-01-11T12:30:00 ... 1968...\n",
       "  * lon               (lon) float64 696B 32.0 32.5 32.93 ... 37.28 37.55 37.9\n",
       "  * lat               (lat) float64 1kB 124.4 124.4 124.4 ... 133.1 133.7 134.3\n",
       "  * depth             (depth) int64 4kB 0 10 12 15 18 ... 1032 1033 1037 1080\n",
       "Data variables:\n",
       "    temperature       (time, lon, lat, depth) float64 165kB <COO: nnz=10342, fill_value=nan>\n",
       "    t_qc_flag         (time, lon, lat, depth) float64 165kB <COO: nnz=10342, fill_value=nan>\n",
       "    salinity          (time, lon, lat, depth) float64 165kB <COO: nnz=10342, fill_value=nan>\n",
       "    s_qc_flag         (time, lon, lat, depth) float64 165kB <COO: nnz=10342, fill_value=nan>\n",
       "    dissolved_oxygen  (time, lon, lat, depth) float64 165kB <COO: nnz=10342, fill_value=nan>\n",
       "    d_qc_flag         (time, lon, lat, depth) float64 165kB <COO: nnz=10342, fill_value=nan>\n",
       "    qc_level          (time, lon, lat, depth) float64 165kB <COO: nnz=10342, fill_value=nan>>"
      ]
     },
     "execution_count": 44,
     "metadata": {},
     "output_type": "execute_result"
    }
   ],
   "source": [
    "nso1968_ds.info"
   ]
  },
  {
   "cell_type": "code",
   "execution_count": null,
   "metadata": {},
   "outputs": [],
   "source": []
  }
 ],
 "metadata": {
  "kernelspec": {
   "display_name": "Python 3 (ipykernel)",
   "language": "python",
   "name": "python3"
  },
  "language_info": {
   "codemirror_mode": {
    "name": "ipython",
    "version": 3
   },
   "file_extension": ".py",
   "mimetype": "text/x-python",
   "name": "python",
   "nbconvert_exporter": "python",
   "pygments_lexer": "ipython3",
   "version": "3.12.1"
  }
 },
 "nbformat": 4,
 "nbformat_minor": 2
}
